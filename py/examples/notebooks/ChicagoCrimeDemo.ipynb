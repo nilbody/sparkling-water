{
 "cells": [
  {
   "cell_type": "code",
   "execution_count": 1,
   "metadata": {
    "collapsed": false,
    "scrolled": true
   },
   "outputs": [
    {
     "name": "stdout",
     "output_type": "stream",
     "text": [
      "Warning: Version mismatch. H2O is version 3.7.0.3247, but the python package is version UNKNOWN.\n"
     ]
    },
    {
     "data": {
      "text/html": [
       "<div style=\"overflow:auto\"><table style=\"width:50%\"><tr><td>H2O cluster uptime: </td>\n",
       "<td>996 milliseconds </td></tr>\n",
       "<tr><td>H2O cluster version: </td>\n",
       "<td>3.7.0.3247</td></tr>\n",
       "<tr><td>H2O cluster name: </td>\n",
       "<td>sparkling-water-michal</td></tr>\n",
       "<tr><td>H2O cluster total nodes: </td>\n",
       "<td>1</td></tr>\n",
       "<tr><td>H2O cluster total memory: </td>\n",
       "<td>982.0 MB</td></tr>\n",
       "<tr><td>H2O cluster total cores: </td>\n",
       "<td>8</td></tr>\n",
       "<tr><td>H2O cluster allowed cores: </td>\n",
       "<td>8</td></tr>\n",
       "<tr><td>H2O cluster healthy: </td>\n",
       "<td>True</td></tr>\n",
       "<tr><td>H2O Connection ip: </td>\n",
       "<td>172.16.2.223</td></tr>\n",
       "<tr><td>H2O Connection port: </td>\n",
       "<td>54321</td></tr></table></div>"
      ],
      "text/plain": [
       "--------------------------  ----------------------\n",
       "H2O cluster uptime:         996 milliseconds\n",
       "H2O cluster version:        3.7.0.3247\n",
       "H2O cluster name:           sparkling-water-michal\n",
       "H2O cluster total nodes:    1\n",
       "H2O cluster total memory:   982.0 MB\n",
       "H2O cluster total cores:    8\n",
       "H2O cluster allowed cores:  8\n",
       "H2O cluster healthy:        True\n",
       "H2O Connection ip:          172.16.2.223\n",
       "H2O Connection port:        54321\n",
       "--------------------------  ----------------------"
      ]
     },
     "metadata": {},
     "output_type": "display_data"
    }
   ],
   "source": [
    "from pysparkling import *\n",
    "hc = H2OContext(sc).start()"
   ]
  },
  {
   "cell_type": "code",
   "execution_count": 2,
   "metadata": {
    "collapsed": false
   },
   "outputs": [
    {
     "name": "stdout",
     "output_type": "stream",
     "text": [
      "\n",
      "Parse Progress: [##################################################] 100%\n",
      "\n",
      "Parse Progress: [##################################################] 100%\n",
      "\n",
      "Parse Progress: [##################################################] 100%\n"
     ]
    }
   ],
   "source": [
    "# Import cluster local file - we need to add files via spark import files  -FIXME\n",
    "import h2o\n",
    "#from h2o.h2o import _locate # private function. used to find files within h2o project directory.\n",
    "def _locate(s): \n",
    "    return \"../../../\" + s \n",
    "   \n",
    "\n",
    "f_weather = h2o.import_file(_locate(\"examples/smalldata/chicagoAllWeather.csv\"))\n",
    "f_census = h2o.import_file(_locate(\"examples/smalldata/chicagoCensus.csv\"))\n",
    "f_crimes = h2o.import_file(_locate(\"examples/smalldata/chicagoCrimes10k.csv\"))"
   ]
  },
  {
   "cell_type": "code",
   "execution_count": 3,
   "metadata": {
    "collapsed": false,
    "scrolled": true
   },
   "outputs": [
    {
     "data": {
      "text/html": [
       "date       month    day    year    maxTemp    meanTemp    minTemp\n",
       "-------  -------  -----  ------  ---------  ----------  ---------\n",
       "1/1/01         1      1    2001         23          14          6\n",
       "1/2/01         1      2    2001         18          12          6\n",
       "1/3/01         1      3    2001         28          18          8\n",
       "1/4/01         1      4    2001         30          24         19\n",
       "1/5/01         1      5    2001         36          30         21\n",
       "1/6/01         1      6    2001         33          26         19\n",
       "1/7/01         1      7    2001         34          28         21\n",
       "1/8/01         1      8    2001         26          20         14\n",
       "1/9/01         1      9    2001         23          16         10\n",
       "1/10/01        1     10    2001         34          26         19"
      ]
     },
     "metadata": {},
     "output_type": "display_data"
    }
   ],
   "source": [
    "f_weather.show()"
   ]
  },
  {
   "cell_type": "code",
   "execution_count": 4,
   "metadata": {
    "collapsed": true
   },
   "outputs": [],
   "source": [
    "# Transform weather table\n",
    "## Remove 1st column (date)\n",
    "f_weather = f_weather[1:]"
   ]
  },
  {
   "cell_type": "code",
   "execution_count": 5,
   "metadata": {
    "collapsed": false
   },
   "outputs": [],
   "source": [
    "# Transform census table\n",
    "## Remove all spaces from column names (causing problems in Spark SQL)\n",
    "col_names = map(lambda s: s.strip().replace(' ', '_'), f_census.col_names)\n",
    "\n",
    "## Update column names in the table\n",
    "#f_weather.names = col_names\n",
    "f_census.names = col_names"
   ]
  },
  {
   "cell_type": "code",
   "execution_count": 6,
   "metadata": {
    "collapsed": false
   },
   "outputs": [
    {
     "name": "stdout",
     "output_type": "stream",
     "text": [
      "Rows:9,999 Cols:25\n",
      "\n",
      "Chunk compression summary:\n"
     ]
    },
    {
     "data": {
      "text/html": [
       "<div style=\"overflow:auto\"><table style=\"width:50%\"><tr><td><b>chunk_type</b></td>\n",
       "<td><b>chunk_name</b></td>\n",
       "<td><b>count</b></td>\n",
       "<td><b>count_percentage</b></td>\n",
       "<td><b>size</b></td>\n",
       "<td><b>size_percentage</b></td></tr>\n",
       "<tr><td>C0L</td>\n",
       "<td>Constant Integers</td>\n",
       "<td>147</td>\n",
       "<td>16.333332</td>\n",
       "<td>   11.5 KB</td>\n",
       "<td>2.2497318</td></tr>\n",
       "<tr><td>CBS</td>\n",
       "<td>Bits</td>\n",
       "<td>2</td>\n",
       "<td>0.2</td>\n",
       "<td>    210  B</td>\n",
       "<td>0.0</td></tr>\n",
       "<tr><td>C1</td>\n",
       "<td>1-Byte Integers</td>\n",
       "<td>283</td>\n",
       "<td>31.444445</td>\n",
       "<td>   95.6 KB</td>\n",
       "<td>18.719261</td></tr>\n",
       "<tr><td>C1N</td>\n",
       "<td>1-Byte Integers (w/o NAs)</td>\n",
       "<td>144</td>\n",
       "<td>16.0</td>\n",
       "<td>   48.6 KB</td>\n",
       "<td>9.521951</td></tr>\n",
       "<tr><td>C2</td>\n",
       "<td>2-Byte Integers</td>\n",
       "<td>144</td>\n",
       "<td>16.0</td>\n",
       "<td>   87.7 KB</td>\n",
       "<td>17.176012</td></tr>\n",
       "<tr><td>C2S</td>\n",
       "<td>2-Byte Fractions</td>\n",
       "<td>35</td>\n",
       "<td>3.888889</td>\n",
       "<td>   21.9 KB</td>\n",
       "<td>4.2817597</td></tr>\n",
       "<tr><td>C4</td>\n",
       "<td>4-Byte Integers</td>\n",
       "<td>72</td>\n",
       "<td>8.0</td>\n",
       "<td>   82.9 KB</td>\n",
       "<td>16.23939</td></tr>\n",
       "<tr><td>C4S</td>\n",
       "<td>4-Byte Fractions</td>\n",
       "<td>1</td>\n",
       "<td>0.1</td>\n",
       "<td>    1.2 KB</td>\n",
       "<td>0.2</td></tr>\n",
       "<tr><td>C8</td>\n",
       "<td>64-bit Integers</td>\n",
       "<td>1</td>\n",
       "<td>0.1</td>\n",
       "<td>    2.2 KB</td>\n",
       "<td>0.4384681</td></tr>\n",
       "<tr><td>C8D</td>\n",
       "<td>64-bit Reals</td>\n",
       "<td>71</td>\n",
       "<td>7.8888884</td>\n",
       "<td>  158.8 KB</td>\n",
       "<td>31.10522</td></tr></table></div>"
      ],
      "text/plain": [
       "chunk_type    chunk_name                 count    count_percentage    size      size_percentage\n",
       "------------  -------------------------  -------  ------------------  --------  -----------------\n",
       "C0L           Constant Integers          147      16.3333             11.5 KB   2.24973\n",
       "CBS           Bits                       2        0.222222            210  B    0.0401738\n",
       "C1            1-Byte Integers            283      31.4444             95.6 KB   18.7193\n",
       "C1N           1-Byte Integers (w/o NAs)  144      16                  48.6 KB   9.52195\n",
       "C2            2-Byte Integers            144      16                  87.7 KB   17.176\n",
       "C2S           2-Byte Fractions           35       3.88889             21.9 KB   4.28176\n",
       "C4            4-Byte Integers            72       8                   82.9 KB   16.2394\n",
       "C4S           4-Byte Fractions           1        0.111111            1.2 KB    0.228034\n",
       "C8            64-bit Integers            1        0.111111            2.2 KB    0.438468\n",
       "C8D           64-bit Reals               71       7.88889             158.8 KB  31.1052"
      ]
     },
     "metadata": {},
     "output_type": "display_data"
    },
    {
     "name": "stdout",
     "output_type": "stream",
     "text": [
      "\n",
      "Frame distribution summary:\n"
     ]
    },
    {
     "data": {
      "text/html": [
       "<div style=\"overflow:auto\"><table style=\"width:50%\"><tr><td><b></b></td>\n",
       "<td><b>size</b></td>\n",
       "<td><b>number_of_rows</b></td>\n",
       "<td><b>number_of_chunks_per_column</b></td>\n",
       "<td><b>number_of_chunks</b></td></tr>\n",
       "<tr><td>172.16.2.223:54321</td>\n",
       "<td>  510.5 KB</td>\n",
       "<td>9999.0</td>\n",
       "<td>36.0</td>\n",
       "<td>900.0</td></tr>\n",
       "<tr><td>mean</td>\n",
       "<td>  510.5 KB</td>\n",
       "<td>9999.0</td>\n",
       "<td>36.0</td>\n",
       "<td>900.0</td></tr>\n",
       "<tr><td>min</td>\n",
       "<td>  510.5 KB</td>\n",
       "<td>9999.0</td>\n",
       "<td>36.0</td>\n",
       "<td>900.0</td></tr>\n",
       "<tr><td>max</td>\n",
       "<td>  510.5 KB</td>\n",
       "<td>9999.0</td>\n",
       "<td>36.0</td>\n",
       "<td>900.0</td></tr>\n",
       "<tr><td>stddev</td>\n",
       "<td>      0  B</td>\n",
       "<td>0.0</td>\n",
       "<td>0.0</td>\n",
       "<td>0.0</td></tr>\n",
       "<tr><td>total</td>\n",
       "<td>  510.5 KB</td>\n",
       "<td>9999.0</td>\n",
       "<td>36.0</td>\n",
       "<td>900.0</td></tr></table></div>"
      ],
      "text/plain": [
       "                    size      number_of_rows    number_of_chunks_per_column    number_of_chunks\n",
       "------------------  --------  ----------------  -----------------------------  ------------------\n",
       "172.16.2.223:54321  510.5 KB  9999              36                             900\n",
       "mean                510.5 KB  9999              36                             900\n",
       "min                 510.5 KB  9999              36                             900\n",
       "max                 510.5 KB  9999              36                             900\n",
       "stddev              0  B      0                 0                              0\n",
       "total               510.5 KB  9999              36                             900"
      ]
     },
     "metadata": {},
     "output_type": "display_data"
    },
    {
     "name": "stdout",
     "output_type": "stream",
     "text": [
      "\n",
      "\n"
     ]
    },
    {
     "data": {
      "text/html": [
       "         Date               Block                 IUCR           Primary_Type     Description                   Location_Description    Arrest          Domestic        Beat           District       Ward           Community_Area    FBI_Code       X_Coordinate    Y_Coordinate    Year    Updated_On              Latitude         Longitude        Location                       Day            Month           WeekNum         WeekDay    HourOfDay\n",
       "-------  -----------------  --------------------  -------------  ---------------  ----------------------------  ----------------------  --------------  --------------  -------------  -------------  -------------  ----------------  -------------  --------------  --------------  ------  ----------------------  ---------------  ---------------  -----------------------------  -------------  --------------  --------------  ---------  -------------\n",
       "type     int                enum                  int            enum             enum                          enum                    enum            enum            int            int            int            int               int            int             int             int     enum                    real             real             enum                           int            int             int             enum       int\n",
       "mins     1.42203063e+12     0.0                   110.0          0.0              0.0                           0.0                     0.0             0.0             111.0          1.0            1.0            1.0               2.0            1100317.0       1814255.0       2015.0  0.0                     41.64507243      -87.906463888    0.0                            1.0            1.0             4.0             0.0        0.0\n",
       "mean     1.42271445081e+12  NaN                   1189.67651357  NaN              NaN                           NaN                     0.292829282928  0.152315231523  1159.61806181  11.3489885128  22.9540954095  37.4476447645     12.7401236227  1163880.59815   1885916.14984   2015.0  NaN                     41.8425652247    -87.6741405221   NaN                            17.6839683968  1.41944194419   5.18081808181   NaN        13.6319631963\n",
       "maxs     1.42346782e+12     6517.0                5131.0         26.0             198.0                         90.0                    1.0             1.0             2535.0         25.0           50.0           77.0              26.0           1205069.0       1951533.0       2015.0  32.0                    42.022646183     -87.524773286    8603.0                         31.0           2.0             6.0             6.0        23.0\n",
       "sigma    433879245.188      NaN                   927.751435583  NaN              NaN                           NaN                     0.455083515588  0.35934414686   695.76029875   6.94547493301  13.6495661144  21.2748762223     7.57423857911  16496.4493681   31274.0163199   0.0     NaN                     0.0860186579359  0.0600357970653  NaN                            11.1801043358  0.493492406787  0.738929830409  NaN        6.47321735807\n",
       "zeros    0                  3                     0              11               933                           19                      7071            8476            0              0              0              0                 0              0               0               0       603                     0                0                1                              0              0               0               1038       374\n",
       "missing  0                  0                     419            0                0                             6                       0               0               0              162            0              0                 2557           162             162             0       0                       162              162              162                            0              0               0               0          0\n",
       "0        1.42346782e+12     081XX S COLES AVE     1811.0         NARCOTICS        POSS: CANNABIS 30GMS OR LESS  STREET                  true            false           422.0          4.0            7.0            46.0              18.0           1198273.0       1851626.0       2015.0  02/15/2015 12:43:39 PM  41.747693646     -87.549035389    (41.747693646, -87.549035389)  8.0            2.0             6.0             Sun        23.0\n",
       "1        1.423467702e+12    118XX S STATE ST      486.0          BATTERY          DOMESTIC BATTERY SIMPLE       APARTMENT               true            true            522.0          5.0            34.0           53.0              nan            1178335.0       1826581.0       2015.0  02/15/2015 12:43:39 PM  41.679442289     -87.622850758    (41.679442289, -87.622850758)  8.0            2.0             6.0             Sun        23.0\n",
       "2        1.423467022e+12    002XX S LARAMIE AVE   2026.0         NARCOTICS        POSS: PCP                     SIDEWALK                true            false           1522.0         15.0           29.0           25.0              18.0           1141717.0       1898581.0       2015.0  02/15/2015 12:43:39 PM  41.87777333      -87.755117993    (41.87777333, -87.755117993)   8.0            2.0             6.0             Sun        23.0\n",
       "3        1.423467023e+12    006XX E 67TH ST       1811.0         NARCOTICS        POSS: CANNABIS 30GMS OR LESS  STREET                  true            false           321.0          nan            6.0            42.0              18.0           nan             nan             2015.0  02/15/2015 12:43:39 PM  nan              nan                                             8.0            2.0             6.0             Sun        23.0\n",
       "4        1.423467058e+12    0000X S MAYFIELD AVE  610.0          BURGLARY         FORCIBLE ENTRY                APARTMENT               false           false           1513.0         15.0           29.0           25.0              5.0            1137239.0       1899372.0       2015.0  02/15/2015 12:43:39 PM  41.880025548     -87.771541324    (41.880025548, -87.771541324)  8.0            2.0             6.0             Sun        23.0\n",
       "5        1.423467021e+12    010XX W 48TH ST       486.0          BATTERY          DOMESTIC BATTERY SIMPLE       APARTMENT               false           true            933.0          9.0            3.0            61.0              nan            1169986.0       1873019.0       2015.0  02/15/2015 12:43:39 PM  41.807059405     -87.65206589     (41.807059405, -87.65206589)   8.0            2.0             6.0             Sun        23.0\n",
       "6        1.423466844e+12    015XX W ARTHUR AVE    1320.0         CRIMINAL DAMAGE  TO VEHICLE                    STREET                  false           false           2432.0         24.0           40.0           1.0               14.0           1164732.0       1943222.0       2015.0  02/15/2015 12:43:39 PM  41.999814056     -87.669342967    (41.999814056, -87.669342967)  8.0            2.0             6.0             Sun        23.0\n",
       "7        1.423466772e+12    060XX W GRAND AVE     110.0          HOMICIDE         FIRST DEGREE MURDER           STREET                  true            false           2512.0         25.0           37.0           19.0              nan            1135910.0       1914206.0       2015.0  02/15/2015 12:43:39 PM  41.920755683     -87.776067514    (41.920755683, -87.776067514)  8.0            2.0             6.0             Sun        23.0\n",
       "8        1.423466433e+12    001XX W WACKER DR     460.0          BATTERY          SIMPLE                        OTHER                   false           false           122.0          1.0            42.0           32.0              nan            1175384.0       1902088.0       2015.0  02/15/2015 12:43:39 PM  41.886707818     -87.631396356    (41.886707818, -87.631396356)  8.0            2.0             6.0             Sun        23.0\n",
       "9        1.423466136e+12    001XX W WACKER DR     460.0          BATTERY          SIMPLE                        HOTEL/MOTEL             false           false           122.0          1.0            42.0           32.0              nan            1175384.0       1902088.0       2015.0  02/15/2015 12:43:39 PM  41.886707818     -87.631396356    (41.886707818, -87.631396356)  8.0            2.0             6.0             Sun        23.0"
      ]
     },
     "metadata": {},
     "output_type": "display_data"
    },
    {
     "name": "stdout",
     "output_type": "stream",
     "text": [
      "Rows:9,999 Cols:26\n",
      "\n",
      "Chunk compression summary:\n"
     ]
    },
    {
     "data": {
      "text/html": [
       "<div style=\"overflow:auto\"><table style=\"width:50%\"><tr><td><b>chunk_type</b></td>\n",
       "<td><b>chunk_name</b></td>\n",
       "<td><b>count</b></td>\n",
       "<td><b>count_percentage</b></td>\n",
       "<td><b>size</b></td>\n",
       "<td><b>size_percentage</b></td></tr>\n",
       "<tr><td>C0L</td>\n",
       "<td>Constant Integers</td>\n",
       "<td>214</td>\n",
       "<td>22.863249</td>\n",
       "<td>   16.7 KB</td>\n",
       "<td>3.3972297</td></tr>\n",
       "<tr><td>CBS</td>\n",
       "<td>Bits</td>\n",
       "<td>7</td>\n",
       "<td>0.7</td>\n",
       "<td>    735  B</td>\n",
       "<td>0.1</td></tr>\n",
       "<tr><td>C1</td>\n",
       "<td>1-Byte Integers</td>\n",
       "<td>283</td>\n",
       "<td>30.235043</td>\n",
       "<td>   95.6 KB</td>\n",
       "<td>19.417192</td></tr>\n",
       "<tr><td>C1N</td>\n",
       "<td>1-Byte Integers (w/o NAs)</td>\n",
       "<td>144</td>\n",
       "<td>15.384616</td>\n",
       "<td>   48.6 KB</td>\n",
       "<td>9.876969</td></tr>\n",
       "<tr><td>C2</td>\n",
       "<td>2-Byte Integers</td>\n",
       "<td>144</td>\n",
       "<td>15.384616</td>\n",
       "<td>   87.7 KB</td>\n",
       "<td>17.816406</td></tr>\n",
       "<tr><td>C4</td>\n",
       "<td>4-Byte Integers</td>\n",
       "<td>72</td>\n",
       "<td>7.692308</td>\n",
       "<td>   82.9 KB</td>\n",
       "<td>16.844862</td></tr>\n",
       "<tr><td>C4S</td>\n",
       "<td>4-Byte Fractions</td>\n",
       "<td>1</td>\n",
       "<td>0.1</td>\n",
       "<td>    1.2 KB</td>\n",
       "<td>0.2365361</td></tr>\n",
       "<tr><td>C8D</td>\n",
       "<td>64-bit Reals</td>\n",
       "<td>71</td>\n",
       "<td>7.58547</td>\n",
       "<td>  158.8 KB</td>\n",
       "<td>32.26495</td></tr></table></div>"
      ],
      "text/plain": [
       "chunk_type    chunk_name                 count    count_percentage    size      size_percentage\n",
       "------------  -------------------------  -------  ------------------  --------  -----------------\n",
       "C0L           Constant Integers          214      22.8632             16.7 KB   3.39723\n",
       "CBS           Bits                       7        0.747863            735  B    0.145851\n",
       "C1            1-Byte Integers            283      30.235              95.6 KB   19.4172\n",
       "C1N           1-Byte Integers (w/o NAs)  144      15.3846             48.6 KB   9.87697\n",
       "C2            2-Byte Integers            144      15.3846             87.7 KB   17.8164\n",
       "C4            4-Byte Integers            72       7.69231             82.9 KB   16.8449\n",
       "C4S           4-Byte Fractions           1        0.106838            1.2 KB    0.236536\n",
       "C8D           64-bit Reals               71       7.58547             158.8 KB  32.2649"
      ]
     },
     "metadata": {},
     "output_type": "display_data"
    },
    {
     "name": "stdout",
     "output_type": "stream",
     "text": [
      "\n",
      "Frame distribution summary:\n"
     ]
    },
    {
     "data": {
      "text/html": [
       "<div style=\"overflow:auto\"><table style=\"width:50%\"><tr><td><b></b></td>\n",
       "<td><b>size</b></td>\n",
       "<td><b>number_of_rows</b></td>\n",
       "<td><b>number_of_chunks_per_column</b></td>\n",
       "<td><b>number_of_chunks</b></td></tr>\n",
       "<tr><td>172.16.2.223:54321</td>\n",
       "<td>  492.1 KB</td>\n",
       "<td>9999.0</td>\n",
       "<td>36.0</td>\n",
       "<td>936.0</td></tr>\n",
       "<tr><td>mean</td>\n",
       "<td>  492.1 KB</td>\n",
       "<td>9999.0</td>\n",
       "<td>36.0</td>\n",
       "<td>936.0</td></tr>\n",
       "<tr><td>min</td>\n",
       "<td>  492.1 KB</td>\n",
       "<td>9999.0</td>\n",
       "<td>36.0</td>\n",
       "<td>936.0</td></tr>\n",
       "<tr><td>max</td>\n",
       "<td>  492.1 KB</td>\n",
       "<td>9999.0</td>\n",
       "<td>36.0</td>\n",
       "<td>936.0</td></tr>\n",
       "<tr><td>stddev</td>\n",
       "<td>      0  B</td>\n",
       "<td>0.0</td>\n",
       "<td>0.0</td>\n",
       "<td>0.0</td></tr>\n",
       "<tr><td>total</td>\n",
       "<td>  492.1 KB</td>\n",
       "<td>9999.0</td>\n",
       "<td>36.0</td>\n",
       "<td>936.0</td></tr></table></div>"
      ],
      "text/plain": [
       "                    size      number_of_rows    number_of_chunks_per_column    number_of_chunks\n",
       "------------------  --------  ----------------  -----------------------------  ------------------\n",
       "172.16.2.223:54321  492.1 KB  9999              36                             936\n",
       "mean                492.1 KB  9999              36                             936\n",
       "min                 492.1 KB  9999              36                             936\n",
       "max                 492.1 KB  9999              36                             936\n",
       "stddev              0  B      0                 0                              0\n",
       "total               492.1 KB  9999              36                             936"
      ]
     },
     "metadata": {},
     "output_type": "display_data"
    },
    {
     "name": "stdout",
     "output_type": "stream",
     "text": [
      "\n",
      "\n"
     ]
    },
    {
     "data": {
      "text/html": [
       "         Block                 IUCR           Primary_Type     Description                   Location_Description    Arrest          Domestic        Beat           District       Ward           Community_Area    FBI_Code       X_Coordinate    Y_Coordinate    Year    Updated_On              Latitude         Longitude        Location                       Day            Month           WeekNum         WeekDay    HourOfDay      Weekend         Season\n",
       "-------  --------------------  -------------  ---------------  ----------------------------  ----------------------  --------------  --------------  -------------  -------------  -------------  ----------------  -------------  --------------  --------------  ------  ----------------------  ---------------  ---------------  -----------------------------  -------------  --------------  --------------  ---------  -------------  --------------  --------\n",
       "type     enum                  int            enum             enum                          enum                    enum            enum            int            int            int            int               int            int             int             int     enum                    real             real             enum                           int            int             int             enum       int            int             enum\n",
       "mins     0.0                   110.0          0.0              0.0                           0.0                     0.0             0.0             111.0          1.0            1.0            1.0               2.0            1100317.0       1814255.0       2015.0  0.0                     41.64507243      -87.906463888    0.0                            1.0            1.0             4.0             0.0        0.0            0.0             0.0\n",
       "mean     NaN                   1189.67651357  NaN              NaN                           NaN                     0.292829282928  0.152315231523  1159.61806181  11.3489885128  22.9540954095  37.4476447645     12.7401236227  1163880.59815   1885916.14984   2015.0  NaN                     41.8425652247    -87.6741405221   NaN                            17.6839683968  1.41944194419   5.18081808181   NaN        13.6319631963  0.159115911591  NaN\n",
       "maxs     6517.0                5131.0         26.0             198.0                         90.0                    1.0             1.0             2535.0         25.0           50.0           77.0              26.0           1205069.0       1951533.0       2015.0  32.0                    42.022646183     -87.524773286    8603.0                         31.0           2.0             6.0             6.0        23.0           1.0             0.0\n",
       "sigma    NaN                   927.751435583  NaN              NaN                           NaN                     0.455083515588  0.35934414686   695.76029875   6.94547493301  13.6495661144  21.2748762223     7.57423857911  16496.4493681   31274.0163199   0.0     NaN                     0.0860186579359  0.0600357970653  NaN                            11.1801043358  0.493492406787  0.738929830409  NaN        6.47321735807  0.365802434041  NaN\n",
       "zeros    3                     0              11               933                           19                      7071            8476            0              0              0              0                 0              0               0               0       603                     0                0                1                              0              0               0               1038       374            8408            9999\n",
       "missing  0                     419            0                0                             6                       0               0               0              162            0              0                 2557           162             162             0       0                       162              162              162                            0              0               0               0          0              0               0\n",
       "0        081XX S COLES AVE     1811.0         NARCOTICS        POSS: CANNABIS 30GMS OR LESS  STREET                  true            false           422.0          4.0            7.0            46.0              18.0           1198273.0       1851626.0       2015.0  02/15/2015 12:43:39 PM  41.747693646     -87.549035389    (41.747693646, -87.549035389)  8.0            2.0             6.0             Sun        23.0           1.0             Winter\n",
       "1        118XX S STATE ST      486.0          BATTERY          DOMESTIC BATTERY SIMPLE       APARTMENT               true            true            522.0          5.0            34.0           53.0              nan            1178335.0       1826581.0       2015.0  02/15/2015 12:43:39 PM  41.679442289     -87.622850758    (41.679442289, -87.622850758)  8.0            2.0             6.0             Sun        23.0           1.0             Winter\n",
       "2        002XX S LARAMIE AVE   2026.0         NARCOTICS        POSS: PCP                     SIDEWALK                true            false           1522.0         15.0           29.0           25.0              18.0           1141717.0       1898581.0       2015.0  02/15/2015 12:43:39 PM  41.87777333      -87.755117993    (41.87777333, -87.755117993)   8.0            2.0             6.0             Sun        23.0           1.0             Winter\n",
       "3        006XX E 67TH ST       1811.0         NARCOTICS        POSS: CANNABIS 30GMS OR LESS  STREET                  true            false           321.0          nan            6.0            42.0              18.0           nan             nan             2015.0  02/15/2015 12:43:39 PM  nan              nan                                             8.0            2.0             6.0             Sun        23.0           1.0             Winter\n",
       "4        0000X S MAYFIELD AVE  610.0          BURGLARY         FORCIBLE ENTRY                APARTMENT               false           false           1513.0         15.0           29.0           25.0              5.0            1137239.0       1899372.0       2015.0  02/15/2015 12:43:39 PM  41.880025548     -87.771541324    (41.880025548, -87.771541324)  8.0            2.0             6.0             Sun        23.0           1.0             Winter\n",
       "5        010XX W 48TH ST       486.0          BATTERY          DOMESTIC BATTERY SIMPLE       APARTMENT               false           true            933.0          9.0            3.0            61.0              nan            1169986.0       1873019.0       2015.0  02/15/2015 12:43:39 PM  41.807059405     -87.65206589     (41.807059405, -87.65206589)   8.0            2.0             6.0             Sun        23.0           1.0             Winter\n",
       "6        015XX W ARTHUR AVE    1320.0         CRIMINAL DAMAGE  TO VEHICLE                    STREET                  false           false           2432.0         24.0           40.0           1.0               14.0           1164732.0       1943222.0       2015.0  02/15/2015 12:43:39 PM  41.999814056     -87.669342967    (41.999814056, -87.669342967)  8.0            2.0             6.0             Sun        23.0           1.0             Winter\n",
       "7        060XX W GRAND AVE     110.0          HOMICIDE         FIRST DEGREE MURDER           STREET                  true            false           2512.0         25.0           37.0           19.0              nan            1135910.0       1914206.0       2015.0  02/15/2015 12:43:39 PM  41.920755683     -87.776067514    (41.920755683, -87.776067514)  8.0            2.0             6.0             Sun        23.0           1.0             Winter\n",
       "8        001XX W WACKER DR     460.0          BATTERY          SIMPLE                        OTHER                   false           false           122.0          1.0            42.0           32.0              nan            1175384.0       1902088.0       2015.0  02/15/2015 12:43:39 PM  41.886707818     -87.631396356    (41.886707818, -87.631396356)  8.0            2.0             6.0             Sun        23.0           1.0             Winter\n",
       "9        001XX W WACKER DR     460.0          BATTERY          SIMPLE                        HOTEL/MOTEL             false           false           122.0          1.0            42.0           32.0              nan            1175384.0       1902088.0       2015.0  02/15/2015 12:43:39 PM  41.886707818     -87.631396356    (41.886707818, -87.631396356)  8.0            2.0             6.0             Sun        23.0           1.0             Winter"
      ]
     },
     "metadata": {},
     "output_type": "display_data"
    }
   ],
   "source": [
    "# Transform crimes table\n",
    "\n",
    "## Drop useless columns\n",
    "f_crimes = f_crimes[2:]\n",
    "\n",
    "## Replace ' ' by '_' in column names\n",
    "col_names = map(lambda s: s.replace(' ', '_'), f_crimes.col_names)\n",
    "f_crimes.names = col_names\n",
    "\n",
    "## Refine date column\n",
    "def refine_date_col(data, col, pattern):\n",
    "    data[col]         = data[col].as_date(pattern)\n",
    "    data[\"Day\"]       = data[col].day()\n",
    "    data[\"Month\"]     = data[col].month()\n",
    "    data[\"Year\"]      = data[col].year()\n",
    "    data[\"WeekNum\"]   = data[col].week()\n",
    "    data[\"WeekDay\"]   = data[col].dayOfWeek()\n",
    "    data[\"HourOfDay\"] = data[col].hour()\n",
    "    \n",
    "    data.describe()  # HACK: Force evaluation before ifelse and cut. See PUBDEV-1425.\n",
    "    \n",
    "    # Create weekend and season cols\n",
    "    # Spring = Mar, Apr, May. Summer = Jun, Jul, Aug. Autumn = Sep, Oct. Winter = Nov, Dec, Jan, Feb.\n",
    "    # data[\"Weekend\"]   = [1 if x in (\"Sun\", \"Sat\") else 0 for x in data[\"WeekDay\"]]\n",
    "    data[\"Weekend\"] = (data[\"WeekDay\"] == \"Sun\" or data[\"WeekDay\"] == \"Sat\").ifelse(1, 0)[0]\n",
    "    data[\"Season\"] = data[\"Month\"].cut([0, 2, 5, 7, 10, 12], [\"Winter\", \"Spring\", \"Summer\", \"Autumn\", \"Winter\"])\n",
    "    \n",
    "refine_date_col(f_crimes, \"Date\", \"%m/%d/%Y %I:%M:%S %p\")\n",
    "f_crimes = f_crimes.drop(\"Date\")\n",
    "f_crimes.describe()"
   ]
  },
  {
   "cell_type": "code",
   "execution_count": 7,
   "metadata": {
    "collapsed": false
   },
   "outputs": [],
   "source": [
    "# Expose H2O frames as Spark DataFrame\n",
    "\n",
    "df_weather = hc.as_spark_frame(f_weather)\n",
    "df_census = hc.as_spark_frame(f_census)\n",
    "df_crimes = hc.as_spark_frame(f_crimes)"
   ]
  },
  {
   "cell_type": "code",
   "execution_count": 8,
   "metadata": {
    "collapsed": false
   },
   "outputs": [
    {
     "name": "stdout",
     "output_type": "stream",
     "text": [
      "+-----+---+----+-------+--------+-------+\n",
      "|month|day|year|maxTemp|meanTemp|minTemp|\n",
      "+-----+---+----+-------+--------+-------+\n",
      "|    1|  1|2001|     23|      14|      6|\n",
      "|    1|  2|2001|     18|      12|      6|\n",
      "|    1|  3|2001|     28|      18|      8|\n",
      "|    1|  4|2001|     30|      24|     19|\n",
      "|    1|  5|2001|     36|      30|     21|\n",
      "|    1|  6|2001|     33|      26|     19|\n",
      "|    1|  7|2001|     34|      28|     21|\n",
      "|    1|  8|2001|     26|      20|     14|\n",
      "|    1|  9|2001|     23|      16|     10|\n",
      "|    1| 10|2001|     34|      26|     19|\n",
      "|    1| 11|2001|     39|      28|     18|\n",
      "|    1| 12|2001|     37|      31|     25|\n",
      "|    1| 13|2001|     35|      34|     33|\n",
      "|    1| 14|2001|     36|      34|     32|\n",
      "|    1| 15|2001|     35|      32|     30|\n",
      "|    1| 16|2001|     30|      28|     26|\n",
      "|    1| 17|2001|     26|      22|     19|\n",
      "|    1| 18|2001|     30|      24|     19|\n",
      "|    1| 19|2001|     27|      22|     17|\n",
      "|    1| 20|2001|     24|      18|     10|\n",
      "+-----+---+----+-------+--------+-------+\n",
      "only showing top 20 rows\n",
      "\n"
     ]
    }
   ],
   "source": [
    "df_weather.show()"
   ]
  },
  {
   "cell_type": "code",
   "execution_count": 9,
   "metadata": {
    "collapsed": true
   },
   "outputs": [],
   "source": [
    "# Use Spark SQL to join datasets\n",
    "\n",
    "## Register DataFrames as tables in SQL context\n",
    "sqlContext.registerDataFrameAsTable(df_weather, \"chicagoWeather\")\n",
    "sqlContext.registerDataFrameAsTable(df_census, \"chicagoCensus\")\n",
    "sqlContext.registerDataFrameAsTable(df_crimes, \"chicagoCrime\")\n",
    "\n",
    "\n",
    "crimeWithWeather = sqlContext.sql(\"\"\"SELECT\n",
    "a.Year, a.Month, a.Day, a.WeekNum, a.HourOfDay, a.Weekend, a.Season, a.WeekDay,\n",
    "a.IUCR, a.Primary_Type, a.Location_Description, a.Community_Area, a.District,\n",
    "a.Arrest, a.Domestic, a.Beat, a.Ward, a.FBI_Code,\n",
    "b.minTemp, b.maxTemp, b.meanTemp,\n",
    "c.PERCENT_AGED_UNDER_18_OR_OVER_64, c.PER_CAPITA_INCOME, c.HARDSHIP_INDEX,\n",
    "c.PERCENT_OF_HOUSING_CROWDED, c.PERCENT_HOUSEHOLDS_BELOW_POVERTY,\n",
    "c.PERCENT_AGED_16__UNEMPLOYED, c.PERCENT_AGED_25__WITHOUT_HIGH_SCHOOL_DIPLOMA\n",
    "FROM chicagoCrime a\n",
    "JOIN chicagoWeather b\n",
    "ON a.Year = b.year AND a.Month = b.month AND a.Day = b.day\n",
    "JOIN chicagoCensus c\n",
    "ON a.Community_Area = c.Community_Area_Number\"\"\")"
   ]
  },
  {
   "cell_type": "code",
   "execution_count": 10,
   "metadata": {
    "collapsed": false
   },
   "outputs": [
    {
     "name": "stdout",
     "output_type": "stream",
     "text": [
      "+----+-----+---+-------+---------+-------+------+-------+----+--------------------+--------------------+--------------+--------+------+--------+----+----+--------+-------+-------+--------+--------------------------------+-----------------+--------------+--------------------------+--------------------------------+---------------------------+--------------------------------------------+\n",
      "|Year|Month|Day|WeekNum|HourOfDay|Weekend|Season|WeekDay|IUCR|        Primary_Type|Location_Description|Community_Area|District|Arrest|Domestic|Beat|Ward|FBI_Code|minTemp|maxTemp|meanTemp|PERCENT_AGED_UNDER_18_OR_OVER_64|PER_CAPITA_INCOME|HARDSHIP_INDEX|PERCENT_OF_HOUSING_CROWDED|PERCENT_HOUSEHOLDS_BELOW_POVERTY|PERCENT_AGED_16__UNEMPLOYED|PERCENT_AGED_25__WITHOUT_HIGH_SCHOOL_DIPLOMA|\n",
      "+----+-----+---+-------+---------+-------+------+-------+----+--------------------+--------------------+--------------+--------+------+--------+----+----+--------+-------+-------+--------+--------------------------------+-----------------+--------------+--------------------------+--------------------------------+---------------------------+--------------------------------------------+\n",
      "|2015|    1| 23|      4|       22|      0|Winter|    Fri|null|   WEAPONS VIOLATION|               ALLEY|            31|      12|  true|   false|1234|  25|      15|     29|     31|      30|                            32.6|            16444|            76|         9.600000000000001|                            25.8|                       15.8|                                        40.7|\n",
      "|2015|    1| 23|      4|       19|      0|Winter|    Fri|4625|       OTHER OFFENSE|            SIDEWALK|            31|      10|  true|   false|1034|  25|      26|     29|     31|      30|                            32.6|            16444|            76|         9.600000000000001|                            25.8|                       15.8|                                        40.7|\n",
      "|2015|    1| 23|      4|       19|      0|Winter|    Fri| 320|             ROBBERY|  SMALL RETAIL STORE|            31|      10| false|   false|1034|  25|       3|     29|     31|      30|                            32.6|            16444|            76|         9.600000000000001|                            25.8|                       15.8|                                        40.7|\n",
      "|2015|    1| 23|      4|       18|      0|Winter|    Fri|1310|     CRIMINAL DAMAGE|          RESTAURANT|            31|      12| false|   false|1235|  25|      14|     29|     31|      30|                            32.6|            16444|            76|         9.600000000000001|                            25.8|                       15.8|                                        40.7|\n",
      "|2015|    1| 23|      4|       18|      0|Winter|    Fri| 610|            BURGLARY|           RESIDENCE|            31|      12| false|   false|1234|  25|       5|     29|     31|      30|                            32.6|            16444|            76|         9.600000000000001|                            25.8|                       15.8|                                        40.7|\n",
      "|2015|    1| 23|      4|       16|      0|Winter|    Fri|2210|LIQUOR LAW VIOLATION| TAVERN/LIQUOR STORE|            31|      12|  true|   false|1233|  25|      22|     29|     31|      30|                            32.6|            16444|            76|         9.600000000000001|                            25.8|                       15.8|                                        40.7|\n",
      "|2015|    1| 23|      4|       16|      0|Winter|    Fri| 470|PUBLIC PEACE VIOL...|             CTA BUS|            31|      10|  true|   false|1034|  25|      24|     29|     31|      30|                            32.6|            16444|            76|         9.600000000000001|                            25.8|                       15.8|                                        40.7|\n",
      "|2015|    1| 23|      4|       15|      0|Winter|    Fri|1305|     CRIMINAL DAMAGE|           RESIDENCE|            31|      12| false|   false|1235|  25|      14|     29|     31|      30|                            32.6|            16444|            76|         9.600000000000001|                            25.8|                       15.8|                                        40.7|\n",
      "|2015|    1| 23|      4|       13|      0|Winter|    Fri| 486|             BATTERY|           RESIDENCE|            31|      10| false|    true|1034|  25|    null|     29|     31|      30|                            32.6|            16444|            76|         9.600000000000001|                            25.8|                       15.8|                                        40.7|\n",
      "|2015|    1| 23|      4|       13|      0|Winter|    Fri| 820|               THEFT|              STREET|            31|      12| false|   false|1234|  25|       6|     29|     31|      30|                            32.6|            16444|            76|         9.600000000000001|                            25.8|                       15.8|                                        40.7|\n",
      "|2015|    1| 23|      4|       12|      0|Winter|    Fri| 915| MOTOR VEHICLE THEFT|  VEHICLE-COMMERCIAL|            31|       9| false|   false| 912|  11|       7|     29|     31|      30|                            32.6|            16444|            76|         9.600000000000001|                            25.8|                       15.8|                                        40.7|\n",
      "|2015|    1| 23|      4|       12|      0|Winter|    Fri| 870|               THEFT|           CTA TRAIN|            31|      12| false|   false|1234|  25|       6|     29|     31|      30|                            32.6|            16444|            76|         9.600000000000001|                            25.8|                       15.8|                                        40.7|\n",
      "|2015|    1| 23|      4|       10|      0|Winter|    Fri| 486|             BATTERY|           APARTMENT|            31|      12|  true|   false|1234|  25|    null|     29|     31|      30|                            32.6|            16444|            76|         9.600000000000001|                            25.8|                       15.8|                                        40.7|\n",
      "|2015|    1| 24|      4|       22|      0|Winter|    Sat|2820|       OTHER OFFENSE|           APARTMENT|            31|      10| false|   false|1034|  25|      26|     29|     43|      36|                            32.6|            16444|            76|         9.600000000000001|                            25.8|                       15.8|                                        40.7|\n",
      "|2015|    1| 24|      4|       21|      0|Winter|    Sat|1310|     CRIMINAL DAMAGE|          RESTAURANT|            31|      12|  true|   false|1233|  25|      14|     29|     43|      36|                            32.6|            16444|            76|         9.600000000000001|                            25.8|                       15.8|                                        40.7|\n",
      "|2015|    1| 24|      4|       18|      0|Winter|    Sat|1750|OFFENSE INVOLVING...|           RESIDENCE|            31|      12| false|    true|1235|  25|      20|     29|     43|      36|                            32.6|            16444|            76|         9.600000000000001|                            25.8|                       15.8|                                        40.7|\n",
      "|2015|    1| 24|      4|       18|      0|Winter|    Sat| 460|             BATTERY|               OTHER|            31|      10| false|   false|1023|  25|    null|     29|     43|      36|                            32.6|            16444|            76|         9.600000000000001|                            25.8|                       15.8|                                        40.7|\n",
      "|2015|    1| 24|      4|       13|      0|Winter|    Sat| 890|               THEFT|   CURRENCY EXCHANGE|            31|      10| false|   false|1023|  25|       6|     29|     43|      36|                            32.6|            16444|            76|         9.600000000000001|                            25.8|                       15.8|                                        40.7|\n",
      "|2015|    1| 24|      4|        9|      0|Winter|    Sat| 560|             ASSAULT|               OTHER|            31|      12| false|   false|1234|  25|    null|     29|     43|      36|                            32.6|            16444|            76|         9.600000000000001|                            25.8|                       15.8|                                        40.7|\n",
      "|2015|    1| 24|      4|        8|      0|Winter|    Sat| 486|             BATTERY|           RESIDENCE|            31|      12|  true|    true|1235|  25|    null|     29|     43|      36|                            32.6|            16444|            76|         9.600000000000001|                            25.8|                       15.8|                                        40.7|\n",
      "+----+-----+---+-------+---------+-------+------+-------+----+--------------------+--------------------+--------------+--------+------+--------+----+----+--------+-------+-------+--------+--------------------------------+-----------------+--------------+--------------------------+--------------------------------+---------------------------+--------------------------------------------+\n",
      "only showing top 20 rows\n",
      "\n"
     ]
    }
   ],
   "source": [
    "crimeWithWeather.show()"
   ]
  },
  {
   "cell_type": "code",
   "execution_count": 11,
   "metadata": {
    "collapsed": false
   },
   "outputs": [],
   "source": [
    "# Publish Spark DataFrame as H2OFrame with given name\n",
    "crimeWithWeatherHF = hc.as_h2o_frame(crimeWithWeather, \"crimeWithWeatherTable\")"
   ]
  },
  {
   "cell_type": "code",
   "execution_count": 12,
   "metadata": {
    "collapsed": true
   },
   "outputs": [],
   "source": [
    "# Transform selected String columns to categoricals\n",
    "crimeWithWeatherHF[\"Arrest\"] = crimeWithWeatherHF[\"Arrest\"].asfactor()\n",
    "crimeWithWeatherHF[\"Season\"] = crimeWithWeatherHF[\"Season\"].asfactor()\n",
    "crimeWithWeatherHF[\"WeekDay\"] = crimeWithWeatherHF[\"WeekDay\"].asfactor()\n",
    "crimeWithWeatherHF[\"Primary_Type\"] = crimeWithWeatherHF[\"Primary_Type\"].asfactor()\n",
    "crimeWithWeatherHF[\"Location_Description\"] = crimeWithWeatherHF[\"Location_Description\"].asfactor()\n",
    "crimeWithWeatherHF[\"Domestic\"] = crimeWithWeatherHF[\"Domestic\"].asfactor()"
   ]
  },
  {
   "cell_type": "code",
   "execution_count": 13,
   "metadata": {
    "collapsed": false
   },
   "outputs": [],
   "source": [
    "# Split final data table\n",
    "ratios = [0.8]\n",
    "frs = crimeWithWeatherHF.split_frame(ratios)\n",
    "train = frs[0]\n",
    "test = frs[1]"
   ]
  },
  {
   "cell_type": "code",
   "execution_count": 14,
   "metadata": {
    "collapsed": true
   },
   "outputs": [],
   "source": [
    "h2o.gbm?"
   ]
  },
  {
   "cell_type": "code",
   "execution_count": 15,
   "metadata": {
    "collapsed": false
   },
   "outputs": [
    {
     "name": "stdout",
     "output_type": "stream",
     "text": [
      "\n",
      "gbm Model Build Progress: [##################################################] 100%\n"
     ]
    },
    {
     "name": "stderr",
     "output_type": "stream",
     "text": [
      "/usr/local/lib/python2.7/site-packages/ipykernel/__main__.py:8: DeprecationWarning: `h2o.gbm` is deprecated. Use the estimators sub module to build an H2OGradientBoostedEstimator.\n"
     ]
    }
   ],
   "source": [
    "gbm_model = h2o.gbm(x      = train.drop(\"Arrest\"),\n",
    "              y            = train[\"Arrest\"],\n",
    "              validation_x = test.drop(\"Arrest\"),\n",
    "              validation_y = test[\"Arrest\"],\n",
    "              ntrees       = 50,\n",
    "              max_depth    = 3,\n",
    "              learn_rate   = 0.1,\n",
    "              distribution = \"bernoulli\")\n"
   ]
  },
  {
   "cell_type": "code",
   "execution_count": 16,
   "metadata": {
    "collapsed": false
   },
   "outputs": [
    {
     "name": "stdout",
     "output_type": "stream",
     "text": [
      "\n",
      "ModelMetricsBinomial: gbm\n",
      "** Reported on test data. **\n",
      "\n",
      "MSE: 0.0886840850472\n",
      "R^2: 0.580772634503\n",
      "LogLoss: 0.297152918244\n",
      "AUC: 0.915804744837\n",
      "Gini: 0.831609489674\n",
      "\n",
      "Confusion Matrix (Act/Pred) for max f1 @ threshold = 0.373316650621:\n"
     ]
    },
    {
     "data": {
      "text/html": [
       "<div style=\"overflow:auto\"><table style=\"width:50%\"><tr><td><b></b></td>\n",
       "<td><b>false</b></td>\n",
       "<td><b>true</b></td>\n",
       "<td><b>Error</b></td>\n",
       "<td><b>Rate</b></td></tr>\n",
       "<tr><td>false</td>\n",
       "<td>1347.0</td>\n",
       "<td>48.0</td>\n",
       "<td>0.0344</td>\n",
       "<td> (48.0/1395.0)</td></tr>\n",
       "<tr><td>true</td>\n",
       "<td>177.0</td>\n",
       "<td>432.0</td>\n",
       "<td>0.2906</td>\n",
       "<td> (177.0/609.0)</td></tr>\n",
       "<tr><td>Total</td>\n",
       "<td>1524.0</td>\n",
       "<td>480.0</td>\n",
       "<td>0.1123</td>\n",
       "<td> (225.0/2004.0)</td></tr></table></div>"
      ],
      "text/plain": [
       "       false    true    Error    Rate\n",
       "-----  -------  ------  -------  --------------\n",
       "false  1347     48      0.0344   (48.0/1395.0)\n",
       "true   177      432     0.2906   (177.0/609.0)\n",
       "Total  1524     480     0.1123   (225.0/2004.0)"
      ]
     },
     "metadata": {},
     "output_type": "display_data"
    },
    {
     "name": "stdout",
     "output_type": "stream",
     "text": [
      "\n",
      "Maximum Metrics: Maximum metrics at their respective thresholds\n",
      "\n"
     ]
    },
    {
     "data": {
      "text/html": [
       "<div style=\"overflow:auto\"><table style=\"width:50%\"><tr><td><b>metric</b></td>\n",
       "<td><b>threshold</b></td>\n",
       "<td><b>value</b></td>\n",
       "<td><b>idx</b></td></tr>\n",
       "<tr><td>max f1</td>\n",
       "<td>0.4</td>\n",
       "<td>0.8</td>\n",
       "<td>145.0</td></tr>\n",
       "<tr><td>max f2</td>\n",
       "<td>0.2</td>\n",
       "<td>0.8</td>\n",
       "<td>265.0</td></tr>\n",
       "<tr><td>max f0point5</td>\n",
       "<td>0.7</td>\n",
       "<td>0.9</td>\n",
       "<td>99.0</td></tr>\n",
       "<tr><td>max accuracy</td>\n",
       "<td>0.6</td>\n",
       "<td>0.9</td>\n",
       "<td>110.0</td></tr>\n",
       "<tr><td>max precision</td>\n",
       "<td>1.0</td>\n",
       "<td>1.0</td>\n",
       "<td>0.0</td></tr>\n",
       "<tr><td>max absolute_MCC</td>\n",
       "<td>0.6</td>\n",
       "<td>0.7</td>\n",
       "<td>110.0</td></tr>\n",
       "<tr><td>max min_per_class_accuracy</td>\n",
       "<td>0.2</td>\n",
       "<td>0.8</td>\n",
       "<td>221.0</td></tr></table></div>"
      ],
      "text/plain": [
       "metric                      threshold    value     idx\n",
       "--------------------------  -----------  --------  -----\n",
       "max f1                      0.373317     0.793388  145\n",
       "max f2                      0.178677     0.809663  265\n",
       "max f0point5                0.675172     0.875495  99\n",
       "max accuracy                0.614211     0.888723  110\n",
       "max precision               0.982559     1         0\n",
       "max absolute_MCC            0.614211     0.731996  110\n",
       "max min_per_class_accuracy  0.238035     0.816092  221"
      ]
     },
     "metadata": {},
     "output_type": "display_data"
    },
    {
     "data": {
      "text/plain": []
     },
     "execution_count": 16,
     "metadata": {},
     "output_type": "execute_result"
    }
   ],
   "source": [
    "gbm_model.model_performance(test)"
   ]
  },
  {
   "cell_type": "code",
   "execution_count": 17,
   "metadata": {
    "collapsed": false
   },
   "outputs": [
    {
     "name": "stdout",
     "output_type": "stream",
     "text": [
      "\n",
      "deeplearning Model Build Progress: [##################################################] 100%\n"
     ]
    },
    {
     "name": "stderr",
     "output_type": "stream",
     "text": [
      "/usr/local/lib/python2.7/site-packages/ipykernel/__main__.py:5: DeprecationWarning: `h2o.deeplearning` is deprecated. Use the estimators sub module to build an H2ODeepLearningEstimator.\n"
     ]
    }
   ],
   "source": [
    "dl_model = h2o.deeplearning(\n",
    "              x            = train.drop(\"Arrest\"),\n",
    "              y            = train[\"Arrest\"],\n",
    "              validation_x = test.drop(\"Arrest\"),\n",
    "              validation_y = test[\"Arrest\"])"
   ]
  },
  {
   "cell_type": "code",
   "execution_count": 18,
   "metadata": {
    "collapsed": false
   },
   "outputs": [
    {
     "name": "stdout",
     "output_type": "stream",
     "text": [
      "\n",
      "ModelMetricsBinomial: deeplearning\n",
      "** Reported on test data. **\n",
      "\n",
      "MSE: 0.104848808803\n",
      "R^2: 0.504358759898\n",
      "LogLoss: 0.345785338505\n",
      "AUC: 0.903655443144\n",
      "Gini: 0.807310886288\n",
      "\n",
      "Confusion Matrix (Act/Pred) for max f1 @ threshold = 0.664046009238:\n"
     ]
    },
    {
     "data": {
      "text/html": [
       "<div style=\"overflow:auto\"><table style=\"width:50%\"><tr><td><b></b></td>\n",
       "<td><b>false</b></td>\n",
       "<td><b>true</b></td>\n",
       "<td><b>Error</b></td>\n",
       "<td><b>Rate</b></td></tr>\n",
       "<tr><td>false</td>\n",
       "<td>1329.0</td>\n",
       "<td>66.0</td>\n",
       "<td>0.0473</td>\n",
       "<td> (66.0/1395.0)</td></tr>\n",
       "<tr><td>true</td>\n",
       "<td>179.0</td>\n",
       "<td>430.0</td>\n",
       "<td>0.2939</td>\n",
       "<td> (179.0/609.0)</td></tr>\n",
       "<tr><td>Total</td>\n",
       "<td>1508.0</td>\n",
       "<td>496.0</td>\n",
       "<td>0.1223</td>\n",
       "<td> (245.0/2004.0)</td></tr></table></div>"
      ],
      "text/plain": [
       "       false    true    Error    Rate\n",
       "-----  -------  ------  -------  --------------\n",
       "false  1329     66      0.0473   (66.0/1395.0)\n",
       "true   179      430     0.2939   (179.0/609.0)\n",
       "Total  1508     496     0.1223   (245.0/2004.0)"
      ]
     },
     "metadata": {},
     "output_type": "display_data"
    },
    {
     "name": "stdout",
     "output_type": "stream",
     "text": [
      "\n",
      "Maximum Metrics: Maximum metrics at their respective thresholds\n",
      "\n"
     ]
    },
    {
     "data": {
      "text/html": [
       "<div style=\"overflow:auto\"><table style=\"width:50%\"><tr><td><b>metric</b></td>\n",
       "<td><b>threshold</b></td>\n",
       "<td><b>value</b></td>\n",
       "<td><b>idx</b></td></tr>\n",
       "<tr><td>max f1</td>\n",
       "<td>0.7</td>\n",
       "<td>0.8</td>\n",
       "<td>94.0</td></tr>\n",
       "<tr><td>max f2</td>\n",
       "<td>0.2</td>\n",
       "<td>0.8</td>\n",
       "<td>251.0</td></tr>\n",
       "<tr><td>max f0point5</td>\n",
       "<td>0.9</td>\n",
       "<td>0.9</td>\n",
       "<td>35.0</td></tr>\n",
       "<tr><td>max accuracy</td>\n",
       "<td>0.7</td>\n",
       "<td>0.9</td>\n",
       "<td>82.0</td></tr>\n",
       "<tr><td>max precision</td>\n",
       "<td>1.0</td>\n",
       "<td>1.0</td>\n",
       "<td>0.0</td></tr>\n",
       "<tr><td>max absolute_MCC</td>\n",
       "<td>0.8</td>\n",
       "<td>0.7</td>\n",
       "<td>56.0</td></tr>\n",
       "<tr><td>max min_per_class_accuracy</td>\n",
       "<td>0.3</td>\n",
       "<td>0.8</td>\n",
       "<td>195.0</td></tr></table></div>"
      ],
      "text/plain": [
       "metric                      threshold    value     idx\n",
       "--------------------------  -----------  --------  -----\n",
       "max f1                      0.664046     0.778281  94\n",
       "max f2                      0.227273     0.792285  251\n",
       "max f0point5                0.911003     0.862309  35\n",
       "max accuracy                0.706404     0.879242  82\n",
       "max precision               0.999951     1         0\n",
       "max absolute_MCC            0.817203     0.706821  56\n",
       "max min_per_class_accuracy  0.348155     0.81445   195"
      ]
     },
     "metadata": {},
     "output_type": "display_data"
    },
    {
     "data": {
      "text/plain": []
     },
     "execution_count": 18,
     "metadata": {},
     "output_type": "execute_result"
    }
   ],
   "source": [
    "dl_model.model_performance(test)"
   ]
  },
  {
   "cell_type": "code",
   "execution_count": 19,
   "metadata": {
    "collapsed": true
   },
   "outputs": [],
   "source": [
    "# create Crime class\n",
    "from datetime import datetime\n",
    "from pytz import timezone\n",
    "\n",
    "def get_season(dt):\n",
    "    if (dt >= 3 and dt <= 5):\n",
    "        return \"Spring\"\n",
    "    elif (dt >= 6 and dt <= 8):\n",
    "        return \"Summer\"\n",
    "    elif (dt >= 9 and dt <= 10):\n",
    "        return \"Autumn\"\n",
    "    else:       \n",
    "        return \"Winter\"\n",
    "\n",
    "def crime(date,\n",
    "        iucr,\n",
    "        primaryType,\n",
    "        locationDescr,\n",
    "        domestic,\n",
    "        beat,\n",
    "        district,\n",
    "        ward,\n",
    "        communityArea,\n",
    "        fbiCode,\n",
    "        minTemp = 77777,\n",
    "        maxTemp = 77777,\n",
    "        meanTemp = 77777,\n",
    "        datePattern = \"%d/%m/%Y %I:%M:%S %p\",\n",
    "        dateTimeZone = \"Etc/UTC\"):\n",
    "\n",
    "    dt = datetime.strptime(\"02/08/2015 11:43:58 PM\",'%d/%m/%Y %I:%M:%S %p')\n",
    "    dt.replace(tzinfo=timezone(\"Etc/UTC\"))\n",
    "\n",
    "    crime = {}\n",
    "    crime[\"Year\"] = dt.year\n",
    "    crime[\"Month\"] = dt.month\n",
    "    crime[\"Day\"] = dt.day\n",
    "    crime[\"WeekNum\"] = dt.isocalendar()[1]\n",
    "    crime[\"HourOfDay\"] = dt.hour\n",
    "    crime[\"Weekend\"] = 1 if dt.weekday() == 5 or dt.weekday() == 6 else 0\n",
    "    crime[\"Season\"] = get_season(dt.month)\n",
    "    crime[\"WeekDay\"] = dt.strftime('%a')  #gets the day of week in short format - Mon, Tue ...\n",
    "    crime[\"IUCR\"] = iucr\n",
    "    crime[\"Primary_Type\"] = primaryType\n",
    "    crime[\"Location_Description\"] = locationDescr\n",
    "    crime[\"Domestic\"] = True if domestic else False\n",
    "    crime[\"Beat\"] = beat\n",
    "    crime[\"District\"] = district\n",
    "    crime[\"Ward\"] = ward\n",
    "    crime[\"Community_Area\"] = communityArea\n",
    "    crime[\"FBI_Code\"] = fbiCode\n",
    "    crime[\"minTemp\"] = minTemp\n",
    "    crime[\"maxTemp\"] = maxTemp\n",
    "    crime[\"meanTemp\"] = meanTemp\n",
    "    return crime"
   ]
  },
  {
   "cell_type": "code",
   "execution_count": 20,
   "metadata": {
    "collapsed": true
   },
   "outputs": [],
   "source": [
    "# Create crimes examples\n",
    "crime_examples = [\n",
    "  crime(\"02/08/2015 11:43:58 PM\", 1811, \"NARCOTICS\", \"STREET\",False, 422, 4, 7, 46, 18),\n",
    "  crime(\"02/08/2015 11:00:39 PM\", 1150, \"DECEPTIVE PRACTICE\", \"RESIDENCE\",False, 923, 9, 14, 63, 11)]"
   ]
  },
  {
   "cell_type": "code",
   "execution_count": 22,
   "metadata": {
    "collapsed": false
   },
   "outputs": [
    {
     "name": "stdout",
     "output_type": "stream",
     "text": [
      "\n",
      "       |Crime: {'meanTemp': 77777, 'maxTemp': 77777, 'Primary_Type': 'NARCOTICS', 'District': 4, 'minTemp': 77777, 'Beat': 422, 'Season': 'Summer', 'Community_Area': 46, 'Domestic': False, 'IUCR': 1811, 'Month': 8, 'Location_Description': 'STREET', 'WeekNum': 31, 'WeekDay': 'Sun', 'Year': 2015, 'HourOfDay': 23, 'Ward': 7, 'FBI_Code': 18, 'Weekend': 1, 'Day': 2}\n",
      "       |  Probability of arrest best on DeepLearning: 96.2809743835\n",
      "       |  Probability of arrest best on GBM: 4.59228476779e-169\n",
      "        \n",
      "\n",
      "       |Crime: {'meanTemp': 77777, 'maxTemp': 77777, 'Primary_Type': 'DECEPTIVE PRACTICE', 'District': 9, 'minTemp': 77777, 'Beat': 923, 'Season': 'Summer', 'Community_Area': 63, 'Domestic': False, 'IUCR': 1150, 'Month': 8, 'Location_Description': 'RESIDENCE', 'WeekNum': 31, 'WeekDay': 'Sun', 'Year': 2015, 'HourOfDay': 23, 'Ward': 14, 'FBI_Code': 11, 'Weekend': 1, 'Day': 2}\n",
      "       |  Probability of arrest best on DeepLearning: 6.33938940776\n",
      "       |  Probability of arrest best on GBM: 1.45404780481e-169\n",
      "        \n"
     ]
    }
   ],
   "source": [
    "#For given crime and model returns probability of crime.\n",
    "from h2o.connection import H2OConnection\n",
    "def score_event(crime, model, censusTable):\n",
    "    srdd = sqlContext.createDataFrame([crime])\n",
    "    # Join table with census data\n",
    "    df_row = censusTable.join(srdd).where(\"Community_Area = Community_Area_Number\")  \n",
    "    row = hc.as_h2o_frame(df_row)\n",
    "    row[\"Season\"] = row[\"Season\"].asfactor()\n",
    "    row[\"WeekDay\"] = row[\"WeekDay\"].asfactor()\n",
    "    row[\"Primary_Type\"] = row[\"Primary_Type\"].asfactor()\n",
    "    row[\"Location_Description\"] = row[\"Location_Description\"].asfactor()\n",
    "    row[\"Domestic\"] = row[\"Domestic\"].asfactor()\n",
    "\n",
    "    predictTable = model.predict(row)\n",
    "    #FIXME: for glmModel table predictTable does not contain column \"true\"\n",
    "    probOfArrest = predictTable[\"true\"][0,0]\n",
    "    return probOfArrest\n",
    "\n",
    "for crime in crime_examples:\n",
    "    arrestProbGLM = 100*score_event(crime, gbm_model, df_census)\n",
    "    arrestProbGBM = 100*score_event(crime, dl_model, df_census)\n",
    "\n",
    "    print(\"\"\"\n",
    "       |Crime: \"\"\"+str(crime)+\"\"\"\n",
    "       |  Probability of arrest best on DeepLearning: \"\"\"+str(arrestProbGLM)+\"\"\"\n",
    "       |  Probability of arrest best on GBM: \"\"\"+str(arrestProbGBM)+\"\"\"\n",
    "        \"\"\")"
   ]
  },
  {
   "cell_type": "code",
   "execution_count": null,
   "metadata": {
    "collapsed": true
   },
   "outputs": [],
   "source": []
  }
 ],
 "metadata": {
  "kernelspec": {
   "display_name": "Python 2",
   "language": "python",
   "name": "python2"
  },
  "language_info": {
   "codemirror_mode": {
    "name": "ipython",
    "version": 2
   },
   "file_extension": ".py",
   "mimetype": "text/x-python",
   "name": "python",
   "nbconvert_exporter": "python",
   "pygments_lexer": "ipython2",
   "version": "2.7.8"
  }
 },
 "nbformat": 4,
 "nbformat_minor": 0
}
